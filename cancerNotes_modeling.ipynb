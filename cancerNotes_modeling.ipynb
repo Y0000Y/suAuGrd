{
 "cells": [
  {
   "cell_type": "code",
   "execution_count": 1,
   "metadata": {
    "collapsed": false
   },
   "outputs": [],
   "source": [
    "import matplotlib.pyplot as plt\n",
    "from sklearn import linear_model, svm\n",
    "from sklearn.neighbors import KNeighborsClassifier\n",
    "from sklearn.ensemble import RandomForestClassifier\n",
    "from sklearn.tree import DecisionTreeClassifier\n",
    "from sklearn.linear_model import LogisticRegression\n",
    "from sklearn.metrics import roc_curve, auc\n",
    "from sklearn.ensemble import AdaBoostClassifier\n",
    "\n",
    "import gensim, logging\n",
    "from sklearn.grid_search import GridSearchCV\n",
    "from sklearn.ensemble import GradientBoostingClassifier\n",
    "from sklearn.ensemble  import RandomForestClassifier\n",
    "from sklearn.cross_validation import KFold\n",
    "from sklearn.svm import SVC\n",
    "from sklearn import cross_validation\n",
    "from sklearn import metrics\n",
    "from sklearn.cross_validation import train_test_split\n",
    "from sklearn.cross_validation import StratifiedShuffleSplit\n",
    "%matplotlib inline"
   ]
  },
  {
   "cell_type": "code",
   "execution_count": 11,
   "metadata": {
    "collapsed": true
   },
   "outputs": [],
   "source": [
    "from sklearn.cross_validation import train_test_split\n",
    "from sklearn.feature_extraction.text import CountVectorizer\n",
    "from sklearn.feature_extraction.text import TfidfVectorizer"
   ]
  },
  {
   "cell_type": "code",
   "execution_count": 2,
   "metadata": {
    "collapsed": true
   },
   "outputs": [],
   "source": [
    "import pickle\n",
    "notes = pickle.load( open( \"notes.p\", \"rb\" ) )\n",
    "y = pickle.load( open( \"y.p\", \"rb\" ) )"
   ]
  },
  {
   "cell_type": "code",
   "execution_count": 3,
   "metadata": {
    "collapsed": false,
    "scrolled": true
   },
   "outputs": [
    {
     "data": {
      "text/plain": [
       "1    47\n",
       "0    17\n",
       "dtype: int64"
      ]
     },
     "execution_count": 3,
     "metadata": {},
     "output_type": "execute_result"
    }
   ],
   "source": [
    "y.value_counts()"
   ]
  },
  {
   "cell_type": "code",
   "execution_count": 80,
   "metadata": {
    "collapsed": false
   },
   "outputs": [],
   "source": [
    "X_train, X_test, Y_train, Y_test = train_test_split(notes, y, train_size=.80)\n",
    "\n",
    "binary_vectorizer = CountVectorizer(stop_words = \"english\",binary=True, ngram_range=(1,2)).fit(X_train)\n",
    "X_train_binary = binary_vectorizer.transform(X_train)\n",
    "X_test_binary = binary_vectorizer.transform(X_test)\n",
    "X_binary = binary_vectorizer.transform(notes)\n",
    "\n",
    "tfidf_vectorizer = TfidfVectorizer(stop_words = \"english\", ngram_range=(1,2)).fit(X_train)\n",
    "X_train_tfidf = tfidf_vectorizer.transform(X_train)\n",
    "X_test_tfidf = tfidf_vectorizer.transform(X_test)\n",
    "X_tfidf = tfidf_vectorizer.transform(notes)"
   ]
  },
  {
   "cell_type": "code",
   "execution_count": 82,
   "metadata": {
    "collapsed": false
   },
   "outputs": [
    {
     "data": {
      "image/png": "[encoded data removed]",
      "text/plain": [
       "<matplotlib.figure.Figure at 0x119e145d0>"
      ]
     },
     "metadata": {},
     "output_type": "display_data"
    }
   ],
   "source": [
    "from sklearn.metrics import roc_curve, auc\n",
    "\n",
    "X_train, X_test = X_train_binary, X_test_binary\n",
    "\n",
    "#Creates the linear regression and trains it\n",
    "log_regresion = linear_model.LogisticRegression(C=1e30).fit(X_train, Y_train)\n",
    "\n",
    "#Calculating the FPR and TPR for Logistic Regresion\n",
    "log_reg_preds = log_regresion.predict_proba(X_test)\n",
    "lr_fpr, lr_tpr, _ = roc_curve(Y_test, log_reg_preds[:,1])\n",
    "lr_auc = auc(lr_fpr,lr_tpr)\n",
    "plt.plot(lr_fpr, lr_tpr, label='LR - AUC:'+str(lr_auc))\n",
    "plt.fill_between(lr_fpr,lr_tpr, alpha=0.25)\n",
    "\n",
    "#Creates a Random Forest\n",
    "rnd_forest = RandomForestClassifier(criterion='entropy', n_estimators=10).fit(X_train, Y_train)\n",
    "#Calculating the FPR and TPR for Random Forest\n",
    "rfor_preds = rnd_forest.predict_proba(X_test)\n",
    "rfor_fpr, rfor_tpr, _ = roc_curve(Y_test, rfor_preds[:,1])\n",
    "rfor_auc = auc(rfor_fpr, rfor_tpr)\n",
    "plt.plot(rfor_fpr, rfor_tpr, label='RF - AUC:'+str(rfor_auc))\n",
    "plt.fill_between(rfor_fpr,rfor_tpr, alpha=0.25)\n",
    "\n",
    "\n",
    "# Create and fit an AdaBoosted decision tree\n",
    "bdt = AdaBoostClassifier(DecisionTreeClassifier(max_depth=6)).fit(X_train,Y_train)\n",
    "\n",
    "#Calculating the FPR and TPR for Adaboost\n",
    "bdt_preds = bdt.predict_proba(X_test)\n",
    "bdt_fpr, bdt_tpr, _ = roc_curve(Y_test, bdt_preds[:,1])\n",
    "bdt_auc = auc(bdt_fpr,bdt_tpr)\n",
    "plt.plot(bdt_fpr, bdt_tpr, label='Adaboost - AUC:'+str(bdt_auc))\n",
    "plt.fill_between(bdt_fpr, bdt_tpr, alpha=0.25)\n",
    "\n",
    "plt.rcParams['figure.figsize'] = 10, 8\n",
    "#Printing the random line\n",
    "x = [0.0, 1.0]\n",
    "plt.plot(x, x, linestyle='dashed', color='red', linewidth=2, label='Random')\n",
    "\n",
    "plt.xlabel(\"FPR\", fontsize=14)\n",
    "plt.ylabel(\"TPR\", fontsize=14)\n",
    "plt.title(\"ROC Curve\", fontsize=14)\n",
    "plt.legend(loc=4)\n",
    "plt.show()"
   ]
  },
  {
   "cell_type": "code",
   "execution_count": 12,
   "metadata": {
    "collapsed": false
   },
   "outputs": [],
   "source": [
    "def xVali(bORt):\n",
    "#     sss = StratifiedShuffleSplit(y, 1,test_size=0.2)\n",
    "#     for train_index, test_index in sss:\n",
    "#         X_train, X_test = notes[train_index], notes[test_index]\n",
    "#         Y_train, Y_test = y[train_index], y[test_index]\n",
    "\n",
    "    global featureBinary,featureTfidf\n",
    "\n",
    "    X_train, X_test, Y_train, Y_test = train_test_split(notes, y, train_size=0.8,stratify=y)\n",
    "    \n",
    "    if bORt == \"binary\":\n",
    "        binary_vectorizer = CountVectorizer(stop_words = \"english\",binary=True, ngram_range=(1,2)).fit(X_train)\n",
    "        X_train = binary_vectorizer.transform(X_train)\n",
    "        X_test = binary_vectorizer.transform(X_test)\n",
    "        feature_names = binary_vectorizer.get_feature_names()\n",
    "        \n",
    "    if bORt == \"tfidf\":\n",
    "        tfidf_vectorizer = TfidfVectorizer(stop_words = \"english\", ngram_range=(1,2)).fit(X_train)\n",
    "        X_train = tfidf_vectorizer.transform(X_train)\n",
    "        X_test = tfidf_vectorizer.transform(X_test)\n",
    "        feature_names = tfidf_vectorizer.get_feature_names()\n",
    "\n",
    "    lr_grid = {'penalty':['l1','l2'],'C':[0.1,1,10]}\n",
    "\n",
    "    kf = cross_validation.StratifiedKFold(Y_train, n_folds=4 )\n",
    "\n",
    "    lr_cv = GridSearchCV(LogisticRegression(), lr_grid, cv = kf, scoring = 'roc_auc')\n",
    "    lr_cv.fit(X_train, Y_train)\n",
    "    lr_auc= metrics.roc_auc_score(Y_test,lr_cv.predict(X_test))\n",
    "\n",
    "    cof =lr_cv.best_estimator_.coef_[0]\n",
    "    cof2 = [(feature_names[i],cof[i]) for i,e in enumerate(cof) ]\n",
    "    cof2.sort(key=lambda x: x[1])\n",
    "    cof2 = [i[0] for i in cof2]\n",
    "    cof3 = list(enumerate(cof2))\n",
    "    \n",
    "    if bORt == \"binary\":\n",
    "        for k,v in cof3:            \n",
    "            featureBinary[v].append(k)\n",
    "            \n",
    "    if bORt == \"tfidf\":\n",
    "        for k,v in cof3:\n",
    "            featureTfidf[v].append(k)\n",
    "            \n",
    "    return lr_auc"
   ]
  },
  {
   "cell_type": "code",
   "execution_count": 13,
   "metadata": {
    "collapsed": false,
    "scrolled": true
   },
   "outputs": [
    {
     "data": {
      "text/plain": [
       "0.6166666666666667"
      ]
     },
     "execution_count": 13,
     "metadata": {},
     "output_type": "execute_result"
    }
   ],
   "source": [
    "featureBinary = collections.defaultdict(list)\n",
    "featureTfidf = collections.defaultdict(list)\n",
    "xVali(\"tfidf\")"
   ]
  },
  {
   "cell_type": "code",
   "execution_count": 66,
   "metadata": {
    "collapsed": false,
    "scrolled": true
   },
   "outputs": [
    {
     "data": {
      "text/plain": [
       "GridSearchCV(cv=sklearn.cross_validation.StratifiedKFold(labels=[0 1 1 0 1 1 1 1 1 1 1 1 0 1 0 1 1 0 1 1 1 1 1 0 0 1 1 0 1 1 1 0 0 1 1 1 1\n",
       " 1 1 1 0 1 1 1 1 1 1 0 0 1 0], n_folds=3, shuffle=False, random_state=None),\n",
       "       error_score='raise',\n",
       "       estimator=LogisticRegression(C=1.0, class_weight=None, dual=False, fit_intercept=True,\n",
       "          intercept_scaling=1, max_iter=100, multi_class='ovr', n_jobs=1,\n",
       "          penalty='l2', random_state=None, solver='liblinear', tol=0.0001,\n",
       "          verbose=0, warm_start=False),\n",
       "       fit_params={}, iid=True, n_jobs=1,\n",
       "       param_grid={'penalty': ['l1', 'l2'], 'C': [0.01, 0.1, 1, 10]},\n",
       "       pre_dispatch='2*n_jobs', refit=True, scoring='roc_auc', verbose=0)"
      ]
     },
     "execution_count": 66,
     "metadata": {},
     "output_type": "execute_result"
    }
   ],
   "source": [
    "lr_cv"
   ]
  },
  {
   "cell_type": "markdown",
   "metadata": {},
   "source": [
    "#### 50 run of cross validation"
   ]
  },
  {
   "cell_type": "code",
   "execution_count": 6,
   "metadata": {
    "collapsed": true
   },
   "outputs": [],
   "source": [
    "import operator\n",
    "from collections import OrderedDict\n",
    "import collections"
   ]
  },
  {
   "cell_type": "code",
   "execution_count": 16,
   "metadata": {
    "collapsed": false,
    "scrolled": true
   },
   "outputs": [],
   "source": [
    "aucBinary = []\n",
    "aucTfidf = []\n",
    "featureBinary = collections.defaultdict(list)\n",
    "featureTfidf = collections.defaultdict(list)\n",
    "for i in xrange(100):\n",
    "    aucBinary.append(xVali(\"binary\"))\n",
    "    aucTfidf.append(xVali(\"tfidf\"))\n",
    "    "
   ]
  },
  {
   "cell_type": "code",
   "execution_count": 17,
   "metadata": {
    "collapsed": false
   },
   "outputs": [
    {
     "data": {
      "text/plain": [
       "<matplotlib.text.Text at 0x11c7cf590>"
      ]
     },
     "execution_count": 17,
     "metadata": {},
     "output_type": "execute_result"
    },
    {
     "data": {
      "image/png": "[encoded data removed]",
      "text/plain": [
       "<matplotlib.figure.Figure at 0x103d2b050>"
      ]
     },
     "metadata": {},
     "output_type": "display_data"
    }
   ],
   "source": [
    "plt.hist(aucBinary)\n",
    "plt.title(\"Logistic Regression (Binary): 100 runs on 4 folds cross validation \")\n",
    "plt.xlabel(\"AUC\")\n",
    "plt.ylabel(\"Frequency\")"
   ]
  },
  {
   "cell_type": "code",
   "execution_count": 18,
   "metadata": {
    "collapsed": false
   },
   "outputs": [
    {
     "data": {
      "text/plain": [
       "<matplotlib.text.Text at 0x11c7075d0>"
      ]
     },
     "execution_count": 18,
     "metadata": {},
     "output_type": "execute_result"
    },
    {
     "data": {
      "image/png": "[encoded data removed]",
      "text/plain": [
       "<matplotlib.figure.Figure at 0x11a23db90>"
      ]
     },
     "metadata": {},
     "output_type": "display_data"
    }
   ],
   "source": [
    "plt.hist(aucTfidf)\n",
    "plt.title(\"Logistic Regression (Tfidf): 100 runs on 4 folds cross validation \")\n",
    "plt.xlabel(\"AUC\")\n",
    "plt.ylabel(\"Frequency\")"
   ]
  },
  {
   "cell_type": "markdown",
   "metadata": {},
   "source": [
    "### Feature Selection - coef rank"
   ]
  },
  {
   "cell_type": "code",
   "execution_count": 19,
   "metadata": {
    "collapsed": true
   },
   "outputs": [],
   "source": [
    "import operator\n",
    "from collections import OrderedDict"
   ]
  },
  {
   "cell_type": "code",
   "execution_count": 20,
   "metadata": {
    "collapsed": true
   },
   "outputs": [],
   "source": [
    "avgFeatures = collections.OrderedDict()\n",
    "for k,v in featureBinary.iteritems():\n",
    "    avgFeatures[k] = sum(v)/ float(len(v))\n",
    "\n",
    "sorted_Ave = list(sorted(avgFeatures.items(), key=operator.itemgetter(1)))"
   ]
  },
  {
   "cell_type": "code",
   "execution_count": 21,
   "metadata": {
    "collapsed": false
   },
   "outputs": [
    {
     "data": {
      "text/plain": [
       "[(u'zyvox flagyl', 207067.98780487804),\n",
       " (u'zyvox paracentisis', 207069.9756097561),\n",
       " (u'yesterday liquid', 207096.71212121213),\n",
       " (u'yogurt breakfast', 207107.0),\n",
       " (u'yogurt broth', 207108.0),\n",
       " (u'yesterday removed', 207144.4696969697),\n",
       " (u'zero current', 207157.09638554216),\n",
       " (u'zincate capsule', 207167.4805194805),\n",
       " (u'zone predominant', 207225.02597402598),\n",
       " (u'zones prostate', 207231.44155844155)]"
      ]
     },
     "execution_count": 21,
     "metadata": {},
     "output_type": "execute_result"
    }
   ],
   "source": [
    "sorted_Ave[-10:]"
   ]
  },
  {
   "cell_type": "code",
   "execution_count": 22,
   "metadata": {
    "collapsed": false,
    "scrolled": true
   },
   "outputs": [
    {
     "data": {
      "text/plain": [
       "[(u'00 50', 44.5875),\n",
       " (u'00 aptt', 47.705128205128204),\n",
       " (u'00 hemoglobin', 76.33333333333333),\n",
       " (u'00 labs', 78.29113924050633),\n",
       " (u'00 na', 88.6),\n",
       " (u'00 palliative', 95.78787878787878),\n",
       " (u'00 poct', 100.93975903614458),\n",
       " (u'00 received', 103.50588235294117),\n",
       " (u'00 right', 109.76),\n",
       " (u'00 room', 110.21333333333334)]"
      ]
     },
     "execution_count": 22,
     "metadata": {},
     "output_type": "execute_result"
    }
   ],
   "source": [
    "sorted_Ave[:10]"
   ]
  },
  {
   "cell_type": "code",
   "execution_count": null,
   "metadata": {
    "collapsed": true
   },
   "outputs": [],
   "source": []
  }
 ],
 "metadata": {
  "kernelspec": {
   "display_name": "Python 2",
   "language": "python",
   "name": "python2"
  },
  "language_info": {
   "codemirror_mode": {
    "name": "ipython",
    "version": 2
   },
   "file_extension": ".py",
   "mimetype": "text/x-python",
   "name": "python",
   "nbconvert_exporter": "python",
   "pygments_lexer": "ipython2",
   "version": "2.7.12"
  }
 },
 "nbformat": 4,
 "nbformat_minor": 0
}
