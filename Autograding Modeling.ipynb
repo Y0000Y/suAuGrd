{
 "cells": [
  {
   "cell_type": "markdown",
   "metadata": {},
   "source": [
    "### Data Upload"
   ]
  },
  {
   "cell_type": "code",
   "execution_count": 54,
   "metadata": {
    "collapsed": true
   },
   "outputs": [],
   "source": [
    "import numpy as np\n",
    "import pickle\n",
    "from sklearn.preprocessing import normalize"
   ]
  },
  {
   "cell_type": "code",
   "execution_count": 145,
   "metadata": {
    "collapsed": true
   },
   "outputs": [],
   "source": [
    "fileNames = ['vision','tel','sleep','shoulder','f2t','abPain','pal']\n",
    "for i in fileNames:    \n",
    "    exec(i + '= pickle.load( open( i, \"rb\" ) )') \n",
    "#\n",
    "xVariables = pickle.load( open( \"xVariables.p\", \"rb\" ) )\n",
    "yVariables = pickle.load( open( \"yVariables.p\", \"rb\" ) )"
   ]
  },
  {
   "cell_type": "code",
   "execution_count": 152,
   "metadata": {
    "collapsed": false
   },
   "outputs": [],
   "source": [
    "abPainText =abPain['Response']+abPain['NextSteps1']+abPain['NextSteps2']+abPain['NextSteps3']\n",
    "f2tText = f2t['History']+f2t['DifferentialDiagnosis']+f2t['NextSteps']\n",
    "palText = pal['Response']+pal['NextSteps1']+pal['NextSteps2']+pal['NextSteps3']\n",
    "shoulderText = shoulder['History']+shoulder['PhysicalExamination']+shoulder['DifferentalDiagnosis']+shoulder['NextSteps']\n",
    "sleepText = sleep['History']+sleep['MentalStatusExamination']+sleep['DifferentalDiagnosis']+sleep['NextSteps']\n",
    "telText = tel['HISTORY']+tel['DIFFERENTIAL DIAGNOSIS']+tel['NEXT STEPS']\n",
    "visionText = vision['History'] + vision['PhysicalExamination'] + vision['DifferentialDiagnosis'] + vision['NextSteps']"
   ]
  },
  {
   "cell_type": "markdown",
   "metadata": {},
   "source": [
    "### word2vect"
   ]
  },
  {
   "cell_type": "code",
   "execution_count": 450,
   "metadata": {
    "collapsed": true
   },
   "outputs": [],
   "source": [
    "import gensim, logging\n",
    "from sklearn.grid_search import GridSearchCV\n",
    "from sklearn.ensemble import GradientBoostingClassifier\n",
    "from sklearn.ensemble  import RandomForestClassifier\n",
    "from sklearn.cross_validation import KFold\n",
    "from sklearn.svm import SVC\n",
    "from sklearn import cross_validation\n",
    "from sklearn import metrics\n",
    "from sklearn.cross_validation import train_test_split"
   ]
  },
  {
   "cell_type": "code",
   "execution_count": 37,
   "metadata": {
    "collapsed": true
   },
   "outputs": [],
   "source": [
    "#GoogleNews-vectors-negative300.bin can be downloaded from website\n",
    "path = '/Users/YY/Documents/NYU/medicalC/'\n",
    "model_word2vec = gensim.models.Word2Vec.load_word2vec_format(path+'GoogleNews-vectors-negative300.bin.gz', binary=True)\n",
    "\n",
    "def veclist(l):\n",
    "    a = []\n",
    "    for i in xrange(len(l)):\n",
    "        #print i\n",
    "        a.append(np.zeros(300))\n",
    "        if len(l[i]) > 0:\n",
    "            for k in l[i]:\n",
    "                try:\n",
    "                    a[i] += model_word2vec[k]\n",
    "                except KeyError:\n",
    "                    continue\n",
    "        else:\n",
    "            a[i] = np.ones(300)/300\n",
    "    return a"
   ]
  },
  {
   "cell_type": "code",
   "execution_count": 78,
   "metadata": {
    "collapsed": false,
    "scrolled": true
   },
   "outputs": [],
   "source": [
    "for f in fileNames:\n",
    "    out = pd.DataFrame()\n",
    "    for m in xVariables[f]:\n",
    "        exec ('temp='+ f)\n",
    "        colW2V= veclist(temp[m].values)\n",
    "        colW2VN = normalize(colW2V)\n",
    "        out = pd.concat([out,pd.DataFrame(colW2VN)], axis=1)  \n",
    "        \n",
    "        newName = m + \"_len\"\n",
    "        out[newName] = len(temp[m])\n",
    "\n",
    "    exec(f+'Xvec=out')"
   ]
  },
  {
   "cell_type": "code",
   "execution_count": 455,
   "metadata": {
    "collapsed": false
   },
   "outputs": [
    {
     "name": "stdout",
     "output_type": "stream",
     "text": [
      "vision\n",
      "0.699723639456 0.626594387755 0.708333333333\n",
      "tel\n",
      "0.699003576903 0.744915687276 0.510219724067\n",
      "sleep\n",
      "0.807757137943 0.740763673891 0.628070175439\n",
      "shoulder\n",
      "0.758048032703 0.738630556975 0.723300970874\n",
      "f2t\n",
      "0.61295705594 0.619528619529 0.512404749247\n",
      "abPain\n",
      "0.651986336032 0.496255060729 0.662550607287\n",
      "pal\n",
      "0.657724408108 0.565661727133 0.567081133254\n"
     ]
    }
   ],
   "source": [
    "for f in fileNames:\n",
    "    print f\n",
    "    exec('xIn='+f+'Xvec')\n",
    "    exec('yIn='+f+'[\"qual_clinical_reasoning\"]')\n",
    "    \n",
    "    rf_grid = {'n_estimators':[20, 50, 100, 500], 'max_features':[1, 2]}\n",
    "    svm_grid = {'C': [1000, 10000, 100000], 'gamma': [100, 10, 1, 0.1], 'kernel': ['linear', 'poly', 'rbf']}\n",
    "    lr_grid = {'penalty':['l1','l2'],'C':[0.01,0.1,1,10]}\n",
    "\n",
    "    kf = cross_validation.StratifiedKFold(yIn, n_folds=5 )\n",
    "\n",
    "    rf_cv = GridSearchCV(RandomForestClassifier(), rf_grid, cv = kf, scoring = 'roc_auc')\n",
    "    rf_cv.fit(xIn, yIn)\n",
    "\n",
    "    svm_cv = GridSearchCV(SVC(), svm_grid, cv = kf, scoring = 'roc_auc')\n",
    "    svm_cv.fit(xIn, yIn)\n",
    "    svc = svm_cv.best_estimator_\n",
    "    svc.probability = True\n",
    "\n",
    "    lr_cv = GridSearchCV(LogisticRegression(), lr_grid, cv = kf, scoring = 'roc_auc')\n",
    "    lr_cv.fit(xIn, yIn)\n",
    "\n",
    "    print rf_cv.best_score_, svm_cv.best_score_, lr_cv.best_score_"
   ]
  },
  {
   "cell_type": "markdown",
   "metadata": {},
   "source": [
    "### TFIDF"
   ]
  },
  {
   "cell_type": "code",
   "execution_count": 440,
   "metadata": {
    "collapsed": true
   },
   "outputs": [],
   "source": [
    "from sklearn.feature_extraction.text import CountVectorizer\n",
    "from sklearn.feature_extraction.text import TfidfVectorizer"
   ]
  },
  {
   "cell_type": "code",
   "execution_count": null,
   "metadata": {
    "collapsed": false
   },
   "outputs": [],
   "source": [
    "for f in fileNames:\n",
    "    print f\n",
    "    exec('xIn='+f+'Text')\n",
    "    exec('yIn='+f+'[\"qual_clinical_reasoning\"]')\n",
    "   \n",
    "    X_train, X_test, Y_train, Y_test = train_test_split(xIn, yIn, train_size=0.8,stratify=yIn)\n",
    "    tfidf_vectorizer = TfidfVectorizer(stop_words = \"english\", ngram_range=(1,2)).fit(X_train)\n",
    "    X_train = tfidf_vectorizer.transform(X_train)\n",
    "    X_test = tfidf_vectorizer.transform(X_test)\n",
    "    \n",
    "    rf_grid = {'n_estimators':[20, 50, 100, 500], 'max_features':[1, 2]}\n",
    "    svm_grid = {'C': [1000, 10000, 100000], 'gamma': [100, 10, 1, 0.1], 'kernel': ['rbf']}\n",
    "    lr_grid = {'penalty':['l1','l2'],'C':[0.01,0.1,1,10]}\n",
    "\n",
    "    kf = cross_validation.StratifiedKFold(Y_train, n_folds=3 )\n",
    "\n",
    "    rf_cv = GridSearchCV(RandomForestClassifier(), rf_grid, cv = kf, scoring = 'roc_auc')\n",
    "    rf_cv.fit(X_train, Y_train)\n",
    "    rf_auc= metrics.roc_auc_score(rf_cv.predict(X_test), Y_test)\n",
    "\n",
    "    svm_cv = GridSearchCV(SVC(), svm_grid, cv = kf, scoring = 'roc_auc')\n",
    "    svm_cv.fit(X_train, Y_train)\n",
    "    svc = svm_cv.best_estimator_\n",
    "    svc.probability = True\n",
    "    svc_auc = metrics.roc_auc_score(svc.predict(X_test), Y_test)\n",
    "\n",
    "    lr_cv = GridSearchCV(LogisticRegression(), lr_grid, cv = kf, scoring = 'roc_auc')\n",
    "    lr_cv.fit(X_train, Y_train)\n",
    "    lr_auc= metrics.roc_auc_score(lr_cv.predict(X_test), Y_test)\n",
    "\n",
    "    print rf_auc, svc_auc, lr_auc"
   ]
  },
  {
   "cell_type": "markdown",
   "metadata": {},
   "source": [
    "### abPain, Sleep"
   ]
  },
  {
   "cell_type": "code",
   "execution_count": 458,
   "metadata": {
    "collapsed": false
   },
   "outputs": [],
   "source": [
    "temp = ['abPain', 'sleep']\n",
    "for f in temp:\n",
    "    list1 =[]\n",
    "    list2 =[]\n",
    "    list3 =[]\n",
    "    for i in xrange(100):\n",
    "        #if i%20 == 0:\n",
    "            #print i\n",
    "        exec('xIn='+f+'Text')\n",
    "        exec('yIn='+f+'[\"qual_clinical_reasoning\"]')\n",
    "        #exec(yIn=sleepYcr)\n",
    "\n",
    "        X_train, X_test, Y_train, Y_test = train_test_split(xIn, yIn, train_size=.80,stratify=yIn)\n",
    "        tfidf_vectorizer = TfidfVectorizer(stop_words = \"english\", ngram_range=(1,2)).fit(X_train)\n",
    "        X_train = tfidf_vectorizer.transform(X_train)\n",
    "        X_test = tfidf_vectorizer.transform(X_test)\n",
    "\n",
    "        rf_grid = {'n_estimators':[20, 50, 100], 'max_features':[1, 2]}\n",
    "        svm_grid = {'C': [1000, 10000, 100000], 'gamma': [100, 10, 1, 0.1], 'kernel': ['linear', 'poly', 'rbf']}\n",
    "        lr_grid = {'penalty':['l1','l2'],'C':[0.01,0.1,1,10]}\n",
    "\n",
    "        kf = cross_validation.StratifiedKFold(Y_train, n_folds=5 )\n",
    "\n",
    "        rf_cv = GridSearchCV(RandomForestClassifier(), rf_grid, cv = kf, scoring = 'roc_auc')\n",
    "        rf_cv.fit(X_train, Y_train)\n",
    "        rf_auc= metrics.roc_auc_score(Y_test,rf_cv.predict_proba(X_test)[:,1])\n",
    "        list1.append(rf_auc)\n",
    "\n",
    "        svm_cv = GridSearchCV(SVC(), svm_grid, cv = kf, scoring = 'roc_auc')\n",
    "        svm_cv.fit(X_train, Y_train)\n",
    "        svc = svm_cv.best_estimator_\n",
    "        svc.probability = True\n",
    "        svc.fit(X_train, Y_train)\n",
    "        svc_auc = metrics.roc_auc_score(Y_test, svc.predict_proba(X_test)[:,1])\n",
    "        list2.append(svc_auc)\n",
    "\n",
    "        lr_cv = GridSearchCV(LogisticRegression(), lr_grid, cv = kf, scoring = 'roc_auc')\n",
    "        lr_cv.fit(X_train, Y_train)\n",
    "        lr_auc= metrics.roc_auc_score(Y_test, lr_cv.predict_proba(X_test)[:,1])\n",
    "        list3.append(lr_auc)\n",
    "        \n",
    "    exec('rf_auc_list_'+f+' =list1')\n",
    "    exec('svc_auc_list_'+f+' =list2')\n",
    "    exec('lr_auc_list_'+f+' =list3') \n",
    "\n",
    "        #print rf_auc, svc_auc, lr_auc"
   ]
  },
  {
   "cell_type": "code",
   "execution_count": 217,
   "metadata": {
    "collapsed": false
   },
   "outputs": [],
   "source": [
    "import matplotlib.pyplot as plt\n",
    "%matplotlib inline"
   ]
  },
  {
   "cell_type": "code",
   "execution_count": 246,
   "metadata": {
    "collapsed": false
   },
   "outputs": [
    {
     "data": {
      "text/plain": [
       "<matplotlib.text.Text at 0x2146d2c10>"
      ]
     },
     "execution_count": 246,
     "metadata": {},
     "output_type": "execute_result"
    },
    {
     "data": {
      "image/png": "[encoded data removed]",
      "text/plain": [
       "<matplotlib.figure.Figure at 0x2187b5850>"
      ]
     },
     "metadata": {},
     "output_type": "display_data"
    }
   ],
   "source": [
    "plt.hist(rf_auc_list_sleep)\n",
    "plt.title(\"sleep: Random Forest\")\n",
    "plt.xlabel(\"AUC\")\n",
    "plt.ylabel(\"Frequency\")"
   ]
  },
  {
   "cell_type": "code",
   "execution_count": 249,
   "metadata": {
    "collapsed": false
   },
   "outputs": [
    {
     "data": {
      "text/plain": [
       "<matplotlib.text.Text at 0x254116890>"
      ]
     },
     "execution_count": 249,
     "metadata": {},
     "output_type": "execute_result"
    },
    {
     "data": {
      "image/png": "[encoded data removed]",
      "text/plain": [
       "<matplotlib.figure.Figure at 0x2572d5a90>"
      ]
     },
     "metadata": {},
     "output_type": "display_data"
    }
   ],
   "source": [
    "plt.hist(svc_auc_list)\n",
    "plt.title(\"abPain: SVM\")\n",
    "plt.xlabel(\"AUC\")\n",
    "plt.ylabel(\"Frequency\")"
   ]
  },
  {
   "cell_type": "code",
   "execution_count": 248,
   "metadata": {
    "collapsed": false
   },
   "outputs": [
    {
     "data": {
      "text/plain": [
       "<matplotlib.text.Text at 0x21486e810>"
      ]
     },
     "execution_count": 248,
     "metadata": {},
     "output_type": "execute_result"
    },
    {
     "data": {
      "image/png": "[encoded data removed]",
      "text/plain": [
       "<matplotlib.figure.Figure at 0x213f4b090>"
      ]
     },
     "metadata": {},
     "output_type": "display_data"
    }
   ],
   "source": [
    "plt.hist(lr_auc_list_sleep)\n",
    "plt.title(\"sleep: Logistic Regression\")\n",
    "plt.xlabel(\"AUC\")\n",
    "plt.ylabel(\"Frequency\")"
   ]
  },
  {
   "cell_type": "markdown",
   "metadata": {},
   "source": [
    "### Logistic Regression - abPain, Sleep"
   ]
  },
  {
   "cell_type": "code",
   "execution_count": 353,
   "metadata": {
    "collapsed": true
   },
   "outputs": [],
   "source": [
    "AUC_list =[]\n",
    "mismatch =[]\n",
    "list3 =[]\n",
    "for i in xrange(1):\n",
    "    xIn=abPainText\n",
    "    yIn=abPain[\"qual_clinical_reasoning\"]\n",
    "    #exec(yIn=sleepYcr)\n",
    "\n",
    "    X_train, X_test, Y_train, Y_test = train_test_split(xIn, yIn, train_size=.80,stratify=yIn)\n",
    "    tfidf_vectorizer = TfidfVectorizer(stop_words = \"english\", ngram_range=(1,2)).fit(X_train)\n",
    "    X_train = tfidf_vectorizer.transform(X_train)\n",
    "    X_test = tfidf_vectorizer.transform(X_test)\n",
    "\n",
    "    lr_grid = {'penalty':['l1','l2'],'C':[0.01,0.1,1,10]}\n",
    "\n",
    "    kf = cross_validation.StratifiedKFold(Y_train, n_folds=5 )\n",
    "\n",
    "    lr_cv = GridSearchCV(LogisticRegression(), lr_grid, cv = kf, scoring = 'roc_auc')\n",
    "    lr_cv.fit(X_train, Y_train)\n",
    "    lr_auc= metrics.roc_auc_score(Y_test, lr_cv.predict_proba(X_test)[:,1])\n",
    "    AUC_list.append(lr_auc)\n",
    "    mismatch.append(abs(lr_cv.predict_proba(X_test)[:,1] - Y_test))\n",
    "    "
   ]
  },
  {
   "cell_type": "code",
   "execution_count": 360,
   "metadata": {
    "collapsed": false,
    "scrolled": true
   },
   "outputs": [
    {
     "name": "stdout",
     "output_type": "stream",
     "text": [
      "[ 0.08363091  0.0837729   0.08804109  0.07971621  0.09154361  0.0843715\n",
      "  0.08620262  0.08549195  0.10048717  0.08794926  0.08961611  0.09560374\n",
      "  0.07817384  0.1080274   0.09535981  0.07790283  0.08653147  0.07722583\n",
      "  0.09986028  0.09977258  0.08866513]\n",
      "[1, 1, 1, 1, 1, 1, 1, 1, 1, 1, 1, 1, 1, 1, 1, 1, 1, 1, 0, 0, 1]\n"
     ]
    }
   ],
   "source": [
    "print lr_cv.predict_proba(X_test)[:,0] \n",
    "print [i for i in Y_test]"
   ]
  },
  {
   "cell_type": "code",
   "execution_count": 366,
   "metadata": {
    "collapsed": false
   },
   "outputs": [],
   "source": [
    "temp = lr_cv.predict_proba(X_test)[:,1]"
   ]
  },
  {
   "cell_type": "code",
   "execution_count": 367,
   "metadata": {
    "collapsed": true
   },
   "outputs": [],
   "source": [
    "temp1 = [i for i in Y_test]"
   ]
  },
  {
   "cell_type": "code",
   "execution_count": 377,
   "metadata": {
    "collapsed": false
   },
   "outputs": [],
   "source": [
    "new = pd.DataFrame([temp,temp1,Y_test.index])"
   ]
  },
  {
   "cell_type": "markdown",
   "metadata": {},
   "source": [
    "### Feature Selection - coef rank"
   ]
  },
  {
   "cell_type": "code",
   "execution_count": 459,
   "metadata": {
    "collapsed": true
   },
   "outputs": [],
   "source": [
    "import operator\n",
    "from collections import OrderedDict"
   ]
  },
  {
   "cell_type": "code",
   "execution_count": 430,
   "metadata": {
    "collapsed": false
   },
   "outputs": [],
   "source": [
    "import collections\n",
    "feature = collections.defaultdict(list)\n",
    "\n",
    "xIn=abPainText\n",
    "yIn=abPain[\"qual_clinical_reasoning\"]\n",
    "for i in xrange(50):\n",
    "    \n",
    "    tr_x, va_t, tr_y, va_y = train_test_split(xIn, yIn, train_size=.80,stratify=yIn)\n",
    "\n",
    "    tfidf_vectorizer = TfidfVectorizer(stop_words = \"english\", ngram_range=(1,2)).fit(tr_x)\n",
    "    xIn2 = tfidf_vectorizer.transform(xIn)\n",
    "    feature_names = tfidf_vectorizer.get_feature_names()\n",
    "\n",
    "    #va_x = tfidf_vectorizer.transform(test)\n",
    "\n",
    "\n",
    "    logreg = LogisticRegression(penalty='l2',C=1)\n",
    "    logreg.fit(xIn2,yIn)\n",
    "\n",
    "    cof =logreg.coef_[0]\n",
    "    cof2 = [(feature_names[i],cof[i]) for i,e in enumerate(cof) ]\n",
    "    cof2.sort(key=lambda x: x[1])\n",
    "    cof2 = [i[0] for i in cof2]\n",
    "    cof3 = list(enumerate(cof2))\n",
    "    \n",
    "    for k,v in cof3:\n",
    "        feature[v].append(k)\n",
    "    \n",
    "    #print len(cof) - cof.count(0)"
   ]
  },
  {
   "cell_type": "code",
   "execution_count": 432,
   "metadata": {
    "collapsed": false
   },
   "outputs": [],
   "source": [
    "avgFeatures = collections.OrderedDict()\n",
    "for k,v in feature.iteritems():\n",
    "    avgFeatures[k] = sum(v)/ float(len(v))\n",
    "\n",
    "sorted_Ave = list(sorted(avgFeatures.items(), key=operator.itemgetter(1)))\n"
   ]
  },
  {
   "cell_type": "code",
   "execution_count": 435,
   "metadata": {
    "collapsed": false
   },
   "outputs": [
    {
     "data": {
      "text/plain": [
       "[(u'hcg', 7268.74),\n",
       " (u'exam', 7269.24),\n",
       " (u'rebound tenderness', 7272.46),\n",
       " (u'pregnancy', 7272.68),\n",
       " (u'ruptured', 7273.14),\n",
       " (u'ectopic', 7274.84),\n",
       " (u'rebound', 7276.3),\n",
       " (u'llq', 7276.32),\n",
       " (u'tenderness', 7277.66),\n",
       " (u'pelvic', 7278.78)]"
      ]
     },
     "execution_count": 435,
     "metadata": {},
     "output_type": "execute_result"
    }
   ],
   "source": [
    "sorted_Ave[-10:]"
   ]
  },
  {
   "cell_type": "code",
   "execution_count": 436,
   "metadata": {
    "collapsed": false,
    "scrolled": false
   },
   "outputs": [
    {
     "data": {
      "text/plain": [
       "[(u'appears', 0.0),\n",
       " (u'ct cbc', 2.36),\n",
       " (u'cbc bmp', 2.84),\n",
       " (u'describes', 3.3),\n",
       " (u'abdominal', 3.3),\n",
       " (u'abdominal ct', 3.66),\n",
       " (u'morning', 5.02),\n",
       " (u'bmp', 8.94),\n",
       " (u'socially', 11.306122448979592),\n",
       " (u'describes pain', 12.36)]"
      ]
     },
     "execution_count": 436,
     "metadata": {},
     "output_type": "execute_result"
    }
   ],
   "source": [
    "sorted_Ave[:10]"
   ]
  },
  {
   "cell_type": "code",
   "execution_count": null,
   "metadata": {
    "collapsed": true
   },
   "outputs": [],
   "source": []
  }
 ],
 "metadata": {
  "kernelspec": {
   "display_name": "Python 2",
   "language": "python",
   "name": "python2"
  },
  "language_info": {
   "codemirror_mode": {
    "name": "ipython",
    "version": 2
   },
   "file_extension": ".py",
   "mimetype": "text/x-python",
   "name": "python",
   "nbconvert_exporter": "python",
   "pygments_lexer": "ipython2",
   "version": "2.7.12"
  }
 },
 "nbformat": 4,
 "nbformat_minor": 0
}
