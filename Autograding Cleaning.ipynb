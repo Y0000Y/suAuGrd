{
 "cells": [
  {
   "cell_type": "markdown",
   "metadata": {},
   "source": [
    "### Load Data"
   ]
  },
  {
   "cell_type": "code",
   "execution_count": 2,
   "metadata": {
    "collapsed": true
   },
   "outputs": [],
   "source": [
    "import numpy as np\n",
    "import pickle\n",
    "from sklearn.preprocessing import normalize"
   ]
  },
  {
   "cell_type": "code",
   "execution_count": 10,
   "metadata": {
    "collapsed": true
   },
   "outputs": [],
   "source": [
    "import pandas as pd\n",
    "import operator\n",
    "\n",
    "visionX = pd.read_csv(\"./Data2/nyu c21 ccse vision loss NOTE.csv\")\n",
    "visionY = pd.read_csv(\"./Data2/RDB Vision for merge.csv\")\n",
    "#rime_reporter_q1_vision,rime_interpreter_q2_vision,rime_manager_q3_vision,qual_clinical_reasoning_vision\n",
    "\n",
    "telX = pd.read_csv(\"./Data2/nyu c21 ccse tel diarrhea NOTE.csv\")\n",
    "telY = pd.read_csv(\"./Data2/RDB Tel Diarrhea for merge.csv\")\n",
    "#rime_reporter_q1_tele,rime_interpreter_q2_tele,rime_manager_q3_tele,qual_clinical_reasoning_tele\n",
    "\n",
    "sleepX = pd.read_csv(\"./Data2/nyu c21 ccse sleeping NOTE research ready.csv\")\n",
    "sleepY = pd.read_csv(\"./Data2/RDB Sleep for merge.csv\")\n",
    "\n",
    "shoulderX = pd.read_csv(\"./Data2/nyu c21 ccse shoulder pain NOTE.csv\")\n",
    "shoulderY = pd.read_csv(\"./Data2/RDB SH Pain for merge.csv\")\n",
    "\n",
    "f2tX = pd.read_csv(\"./Data2/nyu c21 ccse failure to thrive NOTE.csv\")\n",
    "f2tY = pd.read_csv(\"./Data2/RDB Failure to Thrive with dup.csv\")\n",
    "\n",
    "abPainX = pd.read_csv(\"./Data2/nyu c21 ccse acute ab pain NOTE.csv\")\n",
    "abPainY = pd.read_csv(\"./Data2/RDB CCSE 2013 Ab Pain Note Grading Faculty ALL 2nd merge.csv\")\n",
    "\n",
    "palX = pd.read_csv(\"./Data2/nyu c21 ccse acute ab pain NOTE.csv\")\n",
    "palY = pd.read_csv(\"./Data2/RDB CCSE 2013 Palpitations Note Grading-Faculty ALL.csv\")\n"
   ]
  },
  {
   "cell_type": "code",
   "execution_count": 16,
   "metadata": {
    "collapsed": false
   },
   "outputs": [],
   "source": [
    "fileNames = ['vision','tel','sleep','shoulder','f2t','abPain','pal']\n",
    "yColumns = ['record_id','student_id','studentID','rime_reporter_q1','rime_interpreter_q2','rime_manager_q3','qual_clinical_reasoning']\n",
    "xDropColumns = ['INSTITUTE NAME', 'CASE','Case','Date','DATE', 'Category']\n",
    "xVariables = {}\n",
    "yVariables = {}\n",
    "for i in fileNames:\n",
    "\n",
    "    exec('temp = '+i+\"Y.columns.values\")\n",
    "    keep = [j for j in temp if j in yColumns]\n",
    "    exec(i+'y ='+i+\"Y[keep].convert_objects(convert_numeric=True)\")\n",
    "    exec(i+'y ='+ i+'y.fillna('+i+'y.mean())')\n",
    "    \n",
    "    keep.remove('student_id')\n",
    "    yVariables[i]=keep\n",
    "    \n",
    "    #x\n",
    "    exec('temp = '+i+\"X.columns.values\")\n",
    "    drop = [j for j in temp if j in xDropColumns]\n",
    "    exec(i+'x ='+i+\"X.drop(drop,1)\")\n",
    "    exec(i+'x ='+ i+'x.fillna(\" \")')\n",
    "        \n",
    "    #merge X and Y\n",
    "    exec(i+'All=pd.merge('+i+'x,'+i+'y, how=\"inner\", left_on=[\"StudentID\"], right_on=[\"student_id\"]).drop([\"student_id\"],1)')\n",
    "    exec('tempAll='+i+'All')\n",
    "    \n",
    "    #print tempAll.head(5)\n",
    "\n",
    "    exec('xCol = '+i+'x.columns.values.tolist()')\n",
    "    xCol.remove('StudentID')\n",
    "    xVariables[i]=xCol\n",
    "    #print xCol\n",
    "    \n",
    "    for elem in keep:\n",
    "        \n",
    "        tempAll[elem] = pd.Series([1 if x> 1 else 0 for x in tempAll[elem]])\n",
    "    \n",
    "    #save dataset\n",
    "    pickle.dump( tempAll, open( i, \"wb\" ) )"
   ]
  },
  {
   "cell_type": "markdown",
   "metadata": {},
   "source": [
    "### Save Dataset"
   ]
  },
  {
   "cell_type": "code",
   "execution_count": 160,
   "metadata": {
    "collapsed": false,
    "scrolled": false
   },
   "outputs": [],
   "source": [
    "pickle.dump( xVariables, open( \"xVariables.p\", \"wb\" ) )\n",
    "pickle.dump( yVariables, open( \"yVariables.p\", \"wb\" ) )"
   ]
  }
 ],
 "metadata": {
  "kernelspec": {
   "display_name": "Python 2",
   "language": "python",
   "name": "python2"
  },
  "language_info": {
   "codemirror_mode": {
    "name": "ipython",
    "version": 2
   },
   "file_extension": ".py",
   "mimetype": "text/x-python",
   "name": "python",
   "nbconvert_exporter": "python",
   "pygments_lexer": "ipython2",
   "version": "2.7.12"
  }
 },
 "nbformat": 4,
 "nbformat_minor": 0
}
